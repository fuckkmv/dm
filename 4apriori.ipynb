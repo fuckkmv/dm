{
 "cells": [
  {
   "cell_type": "code",
   "execution_count": 1,
   "id": "e013fa95",
   "metadata": {},
   "outputs": [],
   "source": [
    "from efficient_apriori import apriori"
   ]
  },
  {
   "cell_type": "code",
   "execution_count": 2,
   "id": "237371d9",
   "metadata": {},
   "outputs": [],
   "source": [
    "import pandas as pd"
   ]
  },
  {
   "cell_type": "code",
   "execution_count": 3,
   "id": "50246248",
   "metadata": {},
   "outputs": [],
   "source": [
    "items = 'coke milk diaper chocolate butter bread'.split()"
   ]
  },
  {
   "cell_type": "code",
   "execution_count": 4,
   "id": "a76a8ffc",
   "metadata": {},
   "outputs": [],
   "source": [
    "import random"
   ]
  },
  {
   "cell_type": "code",
   "execution_count": 5,
   "id": "59e09950",
   "metadata": {},
   "outputs": [],
   "source": [
    "data = [random.sample(items, random.randint(1, len(items))) for _ in range(10)]"
   ]
  },
  {
   "cell_type": "code",
   "execution_count": 6,
   "id": "29fd686d",
   "metadata": {},
   "outputs": [
    {
     "data": {
      "text/plain": [
       "[['chocolate', 'bread', 'milk', 'butter', 'diaper', 'coke'],\n",
       " ['chocolate', 'butter', 'coke'],\n",
       " ['bread', 'chocolate', 'butter', 'diaper', 'milk'],\n",
       " ['chocolate'],\n",
       " ['coke', 'milk'],\n",
       " ['butter'],\n",
       " ['butter', 'diaper'],\n",
       " ['coke', 'bread', 'butter', 'diaper'],\n",
       " ['diaper'],\n",
       " ['coke']]"
      ]
     },
     "execution_count": 6,
     "metadata": {},
     "output_type": "execute_result"
    }
   ],
   "source": [
    "data"
   ]
  },
  {
   "cell_type": "code",
   "execution_count": 7,
   "id": "cb7a7864",
   "metadata": {},
   "outputs": [],
   "source": [
    "itemset, rules = apriori(data, min_confidence=.75, min_support=.5)"
   ]
  },
  {
   "cell_type": "code",
   "execution_count": 8,
   "id": "a311bd9e",
   "metadata": {},
   "outputs": [
    {
     "data": {
      "text/plain": [
       "{1: {('butter',): 6, ('diaper',): 5, ('coke',): 5}}"
      ]
     },
     "execution_count": 8,
     "metadata": {},
     "output_type": "execute_result"
    }
   ],
   "source": [
    "itemset"
   ]
  },
  {
   "cell_type": "code",
   "execution_count": 9,
   "id": "7a3f59e7",
   "metadata": {},
   "outputs": [
    {
     "data": {
      "text/plain": [
       "[]"
      ]
     },
     "execution_count": 9,
     "metadata": {},
     "output_type": "execute_result"
    }
   ],
   "source": [
    "rules"
   ]
  },
  {
   "cell_type": "code",
   "execution_count": 10,
   "id": "974d15cd",
   "metadata": {},
   "outputs": [],
   "source": [
    "itemset, rules = apriori(data, min_confidence=.6, min_support=.4)"
   ]
  },
  {
   "cell_type": "code",
   "execution_count": 11,
   "id": "441e01b3",
   "metadata": {},
   "outputs": [
    {
     "data": {
      "text/plain": [
       "{1: {('chocolate',): 4, ('butter',): 6, ('diaper',): 5, ('coke',): 5},\n",
       " 2: {('butter', 'diaper'): 4}}"
      ]
     },
     "execution_count": 11,
     "metadata": {},
     "output_type": "execute_result"
    }
   ],
   "source": [
    "itemset"
   ]
  },
  {
   "cell_type": "code",
   "execution_count": 12,
   "id": "3c0d3bf9",
   "metadata": {},
   "outputs": [
    {
     "data": {
      "text/plain": [
       "[{diaper} -> {butter}, {butter} -> {diaper}]"
      ]
     },
     "execution_count": 12,
     "metadata": {},
     "output_type": "execute_result"
    }
   ],
   "source": [
    "rules"
   ]
  },
  {
   "cell_type": "markdown",
   "id": "360b1ecd",
   "metadata": {},
   "source": [
    "# Grocery Dataset"
   ]
  },
  {
   "cell_type": "code",
   "execution_count": 13,
   "id": "93e64eb6",
   "metadata": {},
   "outputs": [],
   "source": [
    "df = pd.read_csv('groceriesDataset.csv')"
   ]
  },
  {
   "cell_type": "code",
   "execution_count": 14,
   "id": "1fd12d05",
   "metadata": {},
   "outputs": [
    {
     "data": {
      "text/html": [
       "<div>\n",
       "<style scoped>\n",
       "    .dataframe tbody tr th:only-of-type {\n",
       "        vertical-align: middle;\n",
       "    }\n",
       "\n",
       "    .dataframe tbody tr th {\n",
       "        vertical-align: top;\n",
       "    }\n",
       "\n",
       "    .dataframe thead th {\n",
       "        text-align: right;\n",
       "    }\n",
       "</style>\n",
       "<table border=\"1\" class=\"dataframe\">\n",
       "  <thead>\n",
       "    <tr style=\"text-align: right;\">\n",
       "      <th></th>\n",
       "      <th>Item(s)</th>\n",
       "      <th>Item 1</th>\n",
       "      <th>Item 2</th>\n",
       "      <th>Item 3</th>\n",
       "      <th>Item 4</th>\n",
       "      <th>Item 5</th>\n",
       "      <th>Item 6</th>\n",
       "      <th>Item 7</th>\n",
       "      <th>Item 8</th>\n",
       "      <th>Item 9</th>\n",
       "      <th>...</th>\n",
       "      <th>Item 23</th>\n",
       "      <th>Item 24</th>\n",
       "      <th>Item 25</th>\n",
       "      <th>Item 26</th>\n",
       "      <th>Item 27</th>\n",
       "      <th>Item 28</th>\n",
       "      <th>Item 29</th>\n",
       "      <th>Item 30</th>\n",
       "      <th>Item 31</th>\n",
       "      <th>Item 32</th>\n",
       "    </tr>\n",
       "  </thead>\n",
       "  <tbody>\n",
       "    <tr>\n",
       "      <th>0</th>\n",
       "      <td>4</td>\n",
       "      <td>citrus fruit</td>\n",
       "      <td>semi-finished bread</td>\n",
       "      <td>margarine</td>\n",
       "      <td>ready soups</td>\n",
       "      <td>NaN</td>\n",
       "      <td>NaN</td>\n",
       "      <td>NaN</td>\n",
       "      <td>NaN</td>\n",
       "      <td>NaN</td>\n",
       "      <td>...</td>\n",
       "      <td>NaN</td>\n",
       "      <td>NaN</td>\n",
       "      <td>NaN</td>\n",
       "      <td>NaN</td>\n",
       "      <td>NaN</td>\n",
       "      <td>NaN</td>\n",
       "      <td>NaN</td>\n",
       "      <td>NaN</td>\n",
       "      <td>NaN</td>\n",
       "      <td>NaN</td>\n",
       "    </tr>\n",
       "    <tr>\n",
       "      <th>1</th>\n",
       "      <td>3</td>\n",
       "      <td>tropical fruit</td>\n",
       "      <td>yogurt</td>\n",
       "      <td>coffee</td>\n",
       "      <td>NaN</td>\n",
       "      <td>NaN</td>\n",
       "      <td>NaN</td>\n",
       "      <td>NaN</td>\n",
       "      <td>NaN</td>\n",
       "      <td>NaN</td>\n",
       "      <td>...</td>\n",
       "      <td>NaN</td>\n",
       "      <td>NaN</td>\n",
       "      <td>NaN</td>\n",
       "      <td>NaN</td>\n",
       "      <td>NaN</td>\n",
       "      <td>NaN</td>\n",
       "      <td>NaN</td>\n",
       "      <td>NaN</td>\n",
       "      <td>NaN</td>\n",
       "      <td>NaN</td>\n",
       "    </tr>\n",
       "    <tr>\n",
       "      <th>2</th>\n",
       "      <td>1</td>\n",
       "      <td>whole milk</td>\n",
       "      <td>NaN</td>\n",
       "      <td>NaN</td>\n",
       "      <td>NaN</td>\n",
       "      <td>NaN</td>\n",
       "      <td>NaN</td>\n",
       "      <td>NaN</td>\n",
       "      <td>NaN</td>\n",
       "      <td>NaN</td>\n",
       "      <td>...</td>\n",
       "      <td>NaN</td>\n",
       "      <td>NaN</td>\n",
       "      <td>NaN</td>\n",
       "      <td>NaN</td>\n",
       "      <td>NaN</td>\n",
       "      <td>NaN</td>\n",
       "      <td>NaN</td>\n",
       "      <td>NaN</td>\n",
       "      <td>NaN</td>\n",
       "      <td>NaN</td>\n",
       "    </tr>\n",
       "    <tr>\n",
       "      <th>3</th>\n",
       "      <td>4</td>\n",
       "      <td>pip fruit</td>\n",
       "      <td>yogurt</td>\n",
       "      <td>cream cheese</td>\n",
       "      <td>meat spreads</td>\n",
       "      <td>NaN</td>\n",
       "      <td>NaN</td>\n",
       "      <td>NaN</td>\n",
       "      <td>NaN</td>\n",
       "      <td>NaN</td>\n",
       "      <td>...</td>\n",
       "      <td>NaN</td>\n",
       "      <td>NaN</td>\n",
       "      <td>NaN</td>\n",
       "      <td>NaN</td>\n",
       "      <td>NaN</td>\n",
       "      <td>NaN</td>\n",
       "      <td>NaN</td>\n",
       "      <td>NaN</td>\n",
       "      <td>NaN</td>\n",
       "      <td>NaN</td>\n",
       "    </tr>\n",
       "    <tr>\n",
       "      <th>4</th>\n",
       "      <td>4</td>\n",
       "      <td>other vegetables</td>\n",
       "      <td>whole milk</td>\n",
       "      <td>condensed milk</td>\n",
       "      <td>long life bakery product</td>\n",
       "      <td>NaN</td>\n",
       "      <td>NaN</td>\n",
       "      <td>NaN</td>\n",
       "      <td>NaN</td>\n",
       "      <td>NaN</td>\n",
       "      <td>...</td>\n",
       "      <td>NaN</td>\n",
       "      <td>NaN</td>\n",
       "      <td>NaN</td>\n",
       "      <td>NaN</td>\n",
       "      <td>NaN</td>\n",
       "      <td>NaN</td>\n",
       "      <td>NaN</td>\n",
       "      <td>NaN</td>\n",
       "      <td>NaN</td>\n",
       "      <td>NaN</td>\n",
       "    </tr>\n",
       "  </tbody>\n",
       "</table>\n",
       "<p>5 rows × 33 columns</p>\n",
       "</div>"
      ],
      "text/plain": [
       "   Item(s)            Item 1               Item 2          Item 3   \n",
       "0        4      citrus fruit  semi-finished bread       margarine  \\\n",
       "1        3    tropical fruit               yogurt          coffee   \n",
       "2        1        whole milk                  NaN             NaN   \n",
       "3        4         pip fruit               yogurt    cream cheese   \n",
       "4        4  other vegetables           whole milk  condensed milk   \n",
       "\n",
       "                     Item 4 Item 5 Item 6 Item 7 Item 8 Item 9  ... Item 23   \n",
       "0               ready soups    NaN    NaN    NaN    NaN    NaN  ...     NaN  \\\n",
       "1                       NaN    NaN    NaN    NaN    NaN    NaN  ...     NaN   \n",
       "2                       NaN    NaN    NaN    NaN    NaN    NaN  ...     NaN   \n",
       "3              meat spreads    NaN    NaN    NaN    NaN    NaN  ...     NaN   \n",
       "4  long life bakery product    NaN    NaN    NaN    NaN    NaN  ...     NaN   \n",
       "\n",
       "  Item 24 Item 25 Item 26 Item 27 Item 28 Item 29 Item 30 Item 31 Item 32  \n",
       "0     NaN     NaN     NaN     NaN     NaN     NaN     NaN     NaN     NaN  \n",
       "1     NaN     NaN     NaN     NaN     NaN     NaN     NaN     NaN     NaN  \n",
       "2     NaN     NaN     NaN     NaN     NaN     NaN     NaN     NaN     NaN  \n",
       "3     NaN     NaN     NaN     NaN     NaN     NaN     NaN     NaN     NaN  \n",
       "4     NaN     NaN     NaN     NaN     NaN     NaN     NaN     NaN     NaN  \n",
       "\n",
       "[5 rows x 33 columns]"
      ]
     },
     "execution_count": 14,
     "metadata": {},
     "output_type": "execute_result"
    }
   ],
   "source": [
    "df.head()"
   ]
  },
  {
   "cell_type": "code",
   "execution_count": 15,
   "id": "467e7835",
   "metadata": {},
   "outputs": [],
   "source": [
    "def retlist(entry):\n",
    "    lis = []\n",
    "    i=entry['Item(s)']\n",
    "    for j in range(i):\n",
    "        lis.append(entry['Item {}'.format(j+1)])\n",
    "    return lis"
   ]
  },
  {
   "cell_type": "code",
   "execution_count": 16,
   "id": "325d9aa8",
   "metadata": {},
   "outputs": [
    {
     "data": {
      "text/plain": [
       "0       [citrus fruit, semi-finished bread, margarine,...\n",
       "1                        [tropical fruit, yogurt, coffee]\n",
       "2                                            [whole milk]\n",
       "3         [pip fruit, yogurt, cream cheese, meat spreads]\n",
       "4       [other vegetables, whole milk, condensed milk,...\n",
       "                              ...                        \n",
       "9830    [sausage, chicken, beef, hamburger meat, citru...\n",
       "9831                                  [cooking chocolate]\n",
       "9832    [chicken, citrus fruit, other vegetables, butt...\n",
       "9833    [semi-finished bread, bottled water, soda, bot...\n",
       "9834    [chicken, tropical fruit, other vegetables, vi...\n",
       "Length: 9835, dtype: object"
      ]
     },
     "execution_count": 16,
     "metadata": {},
     "output_type": "execute_result"
    }
   ],
   "source": [
    "df.apply(retlist, axis=1)"
   ]
  },
  {
   "cell_type": "code",
   "execution_count": 17,
   "id": "b62e7f7f",
   "metadata": {},
   "outputs": [],
   "source": [
    "inpt = list(df.apply(retlist, axis=1))"
   ]
  },
  {
   "cell_type": "code",
   "execution_count": 19,
   "id": "426f12fb",
   "metadata": {},
   "outputs": [],
   "source": [
    "itemlist, rules = apriori(inpt, min_confidence=.05, min_support=.05)"
   ]
  },
  {
   "cell_type": "code",
   "execution_count": 20,
   "id": "303fe6ae",
   "metadata": {},
   "outputs": [
    {
     "data": {
      "text/plain": [
       "{1: {('citrus fruit',): 814,\n",
       "  ('margarine',): 576,\n",
       "  ('tropical fruit',): 1032,\n",
       "  ('yogurt',): 1372,\n",
       "  ('coffee',): 571,\n",
       "  ('whole milk',): 2513,\n",
       "  ('pip fruit',): 744,\n",
       "  ('other vegetables',): 1903,\n",
       "  ('butter',): 545,\n",
       "  ('rolls/buns',): 1809,\n",
       "  ('bottled beer',): 792,\n",
       "  ('bottled water',): 1087,\n",
       "  ('curd',): 524,\n",
       "  ('beef',): 516,\n",
       "  ('frankfurter',): 580,\n",
       "  ('soda',): 1715,\n",
       "  ('fruit/vegetable juice',): 711,\n",
       "  ('newspapers',): 785,\n",
       "  ('pastry',): 875,\n",
       "  ('root vegetables',): 1072,\n",
       "  ('canned beer',): 764,\n",
       "  ('sausage',): 924,\n",
       "  ('brown bread',): 638,\n",
       "  ('shopping bags',): 969,\n",
       "  ('napkins',): 515,\n",
       "  ('pork',): 567,\n",
       "  ('whipped/sour cream',): 705,\n",
       "  ('domestic eggs',): 624},\n",
       " 2: {('other vegetables', 'whole milk'): 736,\n",
       "  ('rolls/buns', 'whole milk'): 557,\n",
       "  ('whole milk', 'yogurt'): 551}}"
      ]
     },
     "execution_count": 20,
     "metadata": {},
     "output_type": "execute_result"
    }
   ],
   "source": [
    "itemlist"
   ]
  },
  {
   "cell_type": "code",
   "execution_count": 21,
   "id": "b09a8cd2",
   "metadata": {},
   "outputs": [
    {
     "data": {
      "text/plain": [
       "[{whole milk} -> {other vegetables},\n",
       " {other vegetables} -> {whole milk},\n",
       " {whole milk} -> {rolls/buns},\n",
       " {rolls/buns} -> {whole milk},\n",
       " {yogurt} -> {whole milk},\n",
       " {whole milk} -> {yogurt}]"
      ]
     },
     "execution_count": 21,
     "metadata": {},
     "output_type": "execute_result"
    }
   ],
   "source": [
    "rules"
   ]
  },
  {
   "cell_type": "markdown",
   "id": "b3b90286",
   "metadata": {},
   "source": [
    "# Bakery Dataset"
   ]
  },
  {
   "cell_type": "code",
   "execution_count": 4,
   "id": "05f3763e",
   "metadata": {},
   "outputs": [],
   "source": [
    "r = pd.Series(d.split('\\n'))"
   ]
  },
  {
   "cell_type": "code",
   "execution_count": null,
   "id": "d283b937",
   "metadata": {},
   "outputs": [],
   "source": []
  },
  {
   "cell_type": "code",
   "execution_count": 5,
   "id": "be1cd296",
   "metadata": {},
   "outputs": [
    {
     "data": {
      "text/plain": [
       "'91, 7, 16, 32, 45'"
      ]
     },
     "execution_count": 5,
     "metadata": {},
     "output_type": "execute_result"
    }
   ],
   "source": [
    "r[90]"
   ]
  },
  {
   "cell_type": "code",
   "execution_count": 6,
   "id": "f87067ff",
   "metadata": {},
   "outputs": [
    {
     "data": {
      "text/plain": [
       "'7, 16, 32, 45'"
      ]
     },
     "execution_count": 6,
     "metadata": {},
     "output_type": "execute_result"
    }
   ],
   "source": [
    "r[90][r[90].index(', ')+2:]"
   ]
  },
  {
   "cell_type": "code",
   "execution_count": 7,
   "id": "43b41a25",
   "metadata": {},
   "outputs": [
    {
     "data": {
      "text/plain": [
       "1"
      ]
     },
     "execution_count": 7,
     "metadata": {},
     "output_type": "execute_result"
    }
   ],
   "source": [
    "r[0].index(', ')"
   ]
  },
  {
   "cell_type": "code",
   "execution_count": 8,
   "id": "a954eb96",
   "metadata": {},
   "outputs": [],
   "source": [
    "r = r[:-1]"
   ]
  },
  {
   "cell_type": "code",
   "execution_count": 9,
   "id": "8cdde544",
   "metadata": {},
   "outputs": [],
   "source": [
    "re = r.apply(lambda x: x[x.index(', ')+2:])"
   ]
  },
  {
   "cell_type": "code",
   "execution_count": 10,
   "id": "d541e181",
   "metadata": {},
   "outputs": [
    {
     "data": {
      "text/plain": [
       "0                11, 21\n",
       "1         7, 11, 37, 45\n",
       "2             3, 33, 42\n",
       "3         5, 12, 17, 47\n",
       "4             6, 18, 42\n",
       "              ...      \n",
       "74994        19, 22, 33\n",
       "74995      4, 9, 13, 40\n",
       "74996    12, 25, 35, 47\n",
       "74997     7, 12, 15, 49\n",
       "74998            33, 42\n",
       "Length: 74999, dtype: object"
      ]
     },
     "execution_count": 10,
     "metadata": {},
     "output_type": "execute_result"
    }
   ],
   "source": [
    "re"
   ]
  },
  {
   "cell_type": "code",
   "execution_count": 11,
   "id": "4efea129",
   "metadata": {},
   "outputs": [],
   "source": [
    "fname = [\"Chocolate Cake\",\"Lemon Cake\",\"Casino Cake\",\"Opera Cake\", \"Strawberry Cake\", \"Truffle Cake\", \"Chocolate Eclair\", \"Coffee Eclair\", \"Vanilla Eclair\", \"Napolean Cake\", \"Almond Tart\", \"Apple Pie\", \"Apple Tart\",\"Apricot Tart\", \"Berry Tart\", \"Blackberry Tart\", \"Blueberry Tart\", \"Chocolate Tart\", \"Cherry Tart\", \"Lemon Tart\", \"Pecan Tart\", \"Ganache Cookie\", \"Gongolais Cookie\", \"Raspberry Cookie\", \"Lemon Cookie\", \"Chocolate Meringue\", \"Vanilla Meringue\", \"Marzipan Cookie\", \"Tuile Cookie\", \"Walnut Cookie\", \"Almond Croissant\", \"Apple Croissant\", \"Apricot Croissant\", \"Cheese Croissant\", \"Chocolate Croissant\", \"Apricot Danish\", \"Apple Danish\", \"Almond Twist\", \"Almond Bear_Claw\", \"Blueberry Danish\", \"Lemon Lemonade\", \"Raspberry Lemonade\", \"Orange Juice\", \"Green Tea\", \"Bottled Water\", \"Hot Coffee\", \"Chocolate Coffee\", \"Vanilla Frappucino\", \"Cherry Soda\", \"Single Espresso\"]"
   ]
  },
  {
   "cell_type": "code",
   "execution_count": 12,
   "id": "04b412e2",
   "metadata": {},
   "outputs": [
    {
     "data": {
      "text/plain": [
       "range(0, 50)"
      ]
     },
     "execution_count": 12,
     "metadata": {},
     "output_type": "execute_result"
    }
   ],
   "source": [
    "range(len(fname))"
   ]
  },
  {
   "cell_type": "code",
   "execution_count": 13,
   "id": "df9b034b",
   "metadata": {},
   "outputs": [],
   "source": [
    "re = re.apply(lambda x: x.split(', '))"
   ]
  },
  {
   "cell_type": "code",
   "execution_count": 14,
   "id": "1882389a",
   "metadata": {},
   "outputs": [],
   "source": [
    "ree = re.apply(lambda x: list(pd.Series(x).replace(list(pd.Series(range(50)).astype(str)), fname)))"
   ]
  },
  {
   "cell_type": "code",
   "execution_count": 15,
   "id": "a75f0609",
   "metadata": {},
   "outputs": [
    {
     "data": {
      "text/plain": [
       "0                              [Apple Pie, Ganache Cookie]\n",
       "1        [Coffee Eclair, Apple Pie, Almond Twist, Hot C...\n",
       "2             [Opera Cake, Cheese Croissant, Orange Juice]\n",
       "3        [Truffle Cake, Apple Tart, Chocolate Tart, Van...\n",
       "4            [Chocolate Eclair, Cherry Tart, Orange Juice]\n",
       "                               ...                        \n",
       "74994     [Lemon Tart, Gongolais Cookie, Cheese Croissant]\n",
       "74995    [Strawberry Cake, Napolean Cake, Apricot Tart,...\n",
       "74996    [Apple Tart, Chocolate Meringue, Apricot Danis...\n",
       "74997    [Coffee Eclair, Apple Tart, Blackberry Tart, S...\n",
       "74998                     [Cheese Croissant, Orange Juice]\n",
       "Length: 74999, dtype: object"
      ]
     },
     "execution_count": 15,
     "metadata": {},
     "output_type": "execute_result"
    }
   ],
   "source": [
    "ree"
   ]
  },
  {
   "cell_type": "code",
   "execution_count": 16,
   "id": "776dc697",
   "metadata": {},
   "outputs": [
    {
     "data": {
      "text/plain": [
       "0         Apple Pie\n",
       "1    Ganache Cookie\n",
       "dtype: object"
      ]
     },
     "execution_count": 16,
     "metadata": {},
     "output_type": "execute_result"
    }
   ],
   "source": [
    "pd.Series(re[0]).replace(list(pd.Series(range(50)).astype(str)), fname)"
   ]
  },
  {
   "cell_type": "code",
   "execution_count": 17,
   "id": "f22c55c4",
   "metadata": {},
   "outputs": [
    {
     "data": {
      "text/plain": [
       "74999"
      ]
     },
     "execution_count": 17,
     "metadata": {},
     "output_type": "execute_result"
    }
   ],
   "source": [
    "len(ree)"
   ]
  },
  {
   "cell_type": "code",
   "execution_count": 18,
   "id": "48fbfc68",
   "metadata": {},
   "outputs": [],
   "source": [
    "itemlist, rules = apriori(ree, min_confidence=.04, min_support=.05)"
   ]
  },
  {
   "cell_type": "code",
   "execution_count": 19,
   "id": "80d85c9d",
   "metadata": {},
   "outputs": [
    {
     "data": {
      "text/plain": [
       "{1: {('Apple Pie',): 5784,\n",
       "  ('Coffee Eclair',): 8193,\n",
       "  ('Almond Twist',): 5790,\n",
       "  ('Hot Coffee',): 7700,\n",
       "  ('Opera Cake',): 6156,\n",
       "  ('Cheese Croissant',): 6166,\n",
       "  ('Orange Juice',): 6871,\n",
       "  ('Truffle Cake',): 6168,\n",
       "  ('Apple Tart',): 5117,\n",
       "  ('Chocolate Tart',): 5529,\n",
       "  ('Vanilla Frappucino',): 5810,\n",
       "  ('Cherry Tart',): 6986,\n",
       "  ('Casino Cake',): 5626,\n",
       "  ('Strawberry Cake',): 6948,\n",
       "  ('Blackberry Tart',): 5690,\n",
       "  ('Blueberry Tart',): 6221,\n",
       "  ('Raspberry Cookie',): 5073,\n",
       "  ('Lemon Lemonade',): 5118,\n",
       "  ('Walnut Cookie',): 5089,\n",
       "  ('Apricot Danish',): 6942,\n",
       "  ('Apple Danish',): 5077,\n",
       "  ('Bottled Water',): 5639,\n",
       "  ('Cherry Soda',): 4649,\n",
       "  ('Single Espresso',): 5098,\n",
       "  ('Raspberry Lemonade',): 5081,\n",
       "  ('Green Tea',): 4685,\n",
       "  ('Chocolate Cake',): 6265,\n",
       "  ('Chocolate Coffee',): 6236,\n",
       "  ('Berry Tart',): 6362,\n",
       "  ('Lemon Cookie',): 5101,\n",
       "  ('Napolean Cake',): 6206,\n",
       "  ('Tuile Cookie',): 7556,\n",
       "  ('Apricot Croissant',): 6299,\n",
       "  ('Lemon Tart',): 5685,\n",
       "  ('Gongolais Cookie',): 6783,\n",
       "  ('Marzipan Cookie',): 6733,\n",
       "  ('Lemon Cake',): 6271,\n",
       "  ('Apple Croissant',): 5047},\n",
       " 2: {('Apricot Danish', 'Cherry Tart'): 3981,\n",
       "  ('Marzipan Cookie', 'Tuile Cookie'): 3819}}"
      ]
     },
     "execution_count": 19,
     "metadata": {},
     "output_type": "execute_result"
    }
   ],
   "source": [
    "itemlist"
   ]
  },
  {
   "cell_type": "code",
   "execution_count": 20,
   "id": "dbbe510e",
   "metadata": {},
   "outputs": [
    {
     "data": {
      "text/plain": [
       "[{Cherry Tart} -> {Apricot Danish},\n",
       " {Apricot Danish} -> {Cherry Tart},\n",
       " {Tuile Cookie} -> {Marzipan Cookie},\n",
       " {Marzipan Cookie} -> {Tuile Cookie}]"
      ]
     },
     "execution_count": 20,
     "metadata": {},
     "output_type": "execute_result"
    }
   ],
   "source": [
    "rules"
   ]
  }
 ],
 "metadata": {
  "kernelspec": {
   "display_name": "Python 3 (ipykernel)",
   "language": "python",
   "name": "python3"
  },
  "language_info": {
   "codemirror_mode": {
    "name": "ipython",
    "version": 3
   },
   "file_extension": ".py",
   "mimetype": "text/x-python",
   "name": "python",
   "nbconvert_exporter": "python",
   "pygments_lexer": "ipython3",
   "version": "3.10.8"
  },
  "varInspector": {
   "cols": {
    "lenName": 16,
    "lenType": 16,
    "lenVar": 40
   },
   "kernels_config": {
    "python": {
     "delete_cmd_postfix": "",
     "delete_cmd_prefix": "del ",
     "library": "var_list.py",
     "varRefreshCmd": "print(var_dic_list())"
    },
    "r": {
     "delete_cmd_postfix": ") ",
     "delete_cmd_prefix": "rm(",
     "library": "var_list.r",
     "varRefreshCmd": "cat(var_dic_list()) "
    }
   },
   "types_to_exclude": [
    "module",
    "function",
    "builtin_function_or_method",
    "instance",
    "_Feature"
   ],
   "window_display": false
  }
 },
 "nbformat": 4,
 "nbformat_minor": 5
}
