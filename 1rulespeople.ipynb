{
 "cells": [
  {
   "cell_type": "code",
   "execution_count": 1,
   "id": "3d126f31",
   "metadata": {},
   "outputs": [],
   "source": [
    "import pandas as pd\n",
    "import matplotlib.pyplot as plt"
   ]
  },
  {
   "cell_type": "code",
   "execution_count": 2,
   "id": "811d3e75",
   "metadata": {},
   "outputs": [
    {
     "data": {
      "text/html": [
       "<div>\n",
       "<style scoped>\n",
       "    .dataframe tbody tr th:only-of-type {\n",
       "        vertical-align: middle;\n",
       "    }\n",
       "\n",
       "    .dataframe tbody tr th {\n",
       "        vertical-align: top;\n",
       "    }\n",
       "\n",
       "    .dataframe thead th {\n",
       "        text-align: right;\n",
       "    }\n",
       "</style>\n",
       "<table border=\"1\" class=\"dataframe\">\n",
       "  <thead>\n",
       "    <tr style=\"text-align: right;\">\n",
       "      <th></th>\n",
       "      <th>AGE</th>\n",
       "      <th>AGEGROUP</th>\n",
       "      <th>HEIGHT</th>\n",
       "      <th>STATUS</th>\n",
       "      <th>YEARSMARRIED</th>\n",
       "    </tr>\n",
       "  </thead>\n",
       "  <tbody>\n",
       "    <tr>\n",
       "      <th>0</th>\n",
       "      <td>21</td>\n",
       "      <td>ADULT</td>\n",
       "      <td>6.0</td>\n",
       "      <td>SINGLE</td>\n",
       "      <td>-1</td>\n",
       "    </tr>\n",
       "    <tr>\n",
       "      <th>1</th>\n",
       "      <td>2</td>\n",
       "      <td>CHILD</td>\n",
       "      <td>3.0</td>\n",
       "      <td>MARRIED</td>\n",
       "      <td>0</td>\n",
       "    </tr>\n",
       "    <tr>\n",
       "      <th>2</th>\n",
       "      <td>18</td>\n",
       "      <td>ADULT</td>\n",
       "      <td>5.7</td>\n",
       "      <td>MARRIED</td>\n",
       "      <td>20</td>\n",
       "    </tr>\n",
       "    <tr>\n",
       "      <th>3</th>\n",
       "      <td>221</td>\n",
       "      <td>ELDERLY</td>\n",
       "      <td>5.0</td>\n",
       "      <td>WIDOWED</td>\n",
       "      <td>2</td>\n",
       "    </tr>\n",
       "    <tr>\n",
       "      <th>4</th>\n",
       "      <td>34</td>\n",
       "      <td>CHILD</td>\n",
       "      <td>-7.0</td>\n",
       "      <td>MARRIED</td>\n",
       "      <td>3</td>\n",
       "    </tr>\n",
       "  </tbody>\n",
       "</table>\n",
       "</div>"
      ],
      "text/plain": [
       "   AGE AGEGROUP  HEIGHT   STATUS  YEARSMARRIED\n",
       "0   21    ADULT     6.0   SINGLE            -1\n",
       "1    2    CHILD     3.0  MARRIED             0\n",
       "2   18    ADULT     5.7  MARRIED            20\n",
       "3  221  ELDERLY     5.0  WIDOWED             2\n",
       "4   34    CHILD    -7.0  MARRIED             3"
      ]
     },
     "execution_count": 2,
     "metadata": {},
     "output_type": "execute_result"
    }
   ],
   "source": [
    "txt = pd.read_table('people.txt')\n",
    "txt"
   ]
  },
  {
   "cell_type": "code",
   "execution_count": 3,
   "id": "7b8c4271",
   "metadata": {},
   "outputs": [
    {
     "name": "stdout",
     "output_type": "stream",
     "text": [
      "Age is wrong at index  3 \n",
      "\n",
      "Age is lower than year married at index  2 \n",
      "\n"
     ]
    },
    {
     "data": {
      "text/html": [
       "<div>\n",
       "<style scoped>\n",
       "    .dataframe tbody tr th:only-of-type {\n",
       "        vertical-align: middle;\n",
       "    }\n",
       "\n",
       "    .dataframe tbody tr th {\n",
       "        vertical-align: top;\n",
       "    }\n",
       "\n",
       "    .dataframe thead th {\n",
       "        text-align: right;\n",
       "    }\n",
       "</style>\n",
       "<table border=\"1\" class=\"dataframe\">\n",
       "  <thead>\n",
       "    <tr style=\"text-align: right;\">\n",
       "      <th></th>\n",
       "      <th>AGE</th>\n",
       "      <th>AGEGROUP</th>\n",
       "      <th>HEIGHT</th>\n",
       "      <th>STATUS</th>\n",
       "      <th>YEARSMARRIED</th>\n",
       "    </tr>\n",
       "  </thead>\n",
       "  <tbody>\n",
       "    <tr>\n",
       "      <th>3</th>\n",
       "      <td>221</td>\n",
       "      <td>ELDERLY</td>\n",
       "      <td>5.0</td>\n",
       "      <td>WIDOWED</td>\n",
       "      <td>2</td>\n",
       "    </tr>\n",
       "    <tr>\n",
       "      <th>2</th>\n",
       "      <td>18</td>\n",
       "      <td>ADULT</td>\n",
       "      <td>5.7</td>\n",
       "      <td>MARRIED</td>\n",
       "      <td>20</td>\n",
       "    </tr>\n",
       "    <tr>\n",
       "      <th>4</th>\n",
       "      <td>34</td>\n",
       "      <td>CHILD</td>\n",
       "      <td>-7.0</td>\n",
       "      <td>MARRIED</td>\n",
       "      <td>3</td>\n",
       "    </tr>\n",
       "  </tbody>\n",
       "</table>\n",
       "</div>"
      ],
      "text/plain": [
       "   AGE AGEGROUP  HEIGHT   STATUS  YEARSMARRIED\n",
       "3  221  ELDERLY     5.0  WIDOWED             2\n",
       "2   18    ADULT     5.7  MARRIED            20\n",
       "4   34    CHILD    -7.0  MARRIED             3"
      ]
     },
     "execution_count": 3,
     "metadata": {},
     "output_type": "execute_result"
    }
   ],
   "source": [
    "df=pd.DataFrame()\n",
    "def E(txt):\n",
    "    iage=txt.index[(txt['AGE']<0)|(txt['AGE']>150)].tolist()\n",
    "    iyrm=txt.index[(txt['AGE']<txt['YEARSMARRIED'])].tolist()\n",
    "    istat = txt.index[(txt['STATUS']!=\"SINGLE\") & (txt['STATUS']!=\"WIDOWED\") & (txt['STATUS']!=\"MARRIED\") ].tolist()\n",
    "    ig1 = txt.index[(txt['AGE']<18)&(txt['AGEGROUP']!='CHILD')].tolist()\n",
    "    ig2 = txt.index[((txt['AGE']>17))&(txt['AGE']<65)&(txt['AGEGROUP']!='ADULT')].tolist()\n",
    "    ig3 = txt.index[(txt['AGE']>65)&(txt['AGEGROUP']!='ELDERLY')].tolist()\n",
    "    for i in range(0,len(iage)):\n",
    "        print(\"Age is wrong at index \",int(iage[i]),\"\\n\")\n",
    "    for i in range(0,len(iyrm)):\n",
    "        print(\"Age is lower than year married at index \",int(iyrm[i]),\"\\n\")\n",
    "    for i in range(0,len(istat)):\n",
    "        print(\"Status is wrong at index \",int(istat[i]),\"\\n\")\n",
    "        \n",
    "    tin = pd.unique(iage+iyrm+ig1+istat+ig2+ig3).tolist()\n",
    "    return tin,len(iage),len(iyrm),len(istat),len(ig1+ig2+ig3)\n",
    "\n",
    "tin,r1,r2,r3,r4=E(txt)\n",
    "txt.iloc[tin]"
   ]
  },
  {
   "cell_type": "code",
   "execution_count": 4,
   "id": "9f3a6323",
   "metadata": {},
   "outputs": [
    {
     "name": "stdout",
     "output_type": "stream",
     "text": [
      "Rule 1 is broken  1  times\n",
      "Rule 2 is broken  1  times\n",
      "Rule 3 is broken  0  times\n",
      "Rule 4 is broken  1  times\n",
      "\n",
      "Total rules are broken  3  times\n"
     ]
    }
   ],
   "source": [
    "print(\"Rule 1 is broken \",r1,\" times\")\n",
    "print(\"Rule 2 is broken \",r2,\" times\")\n",
    "print(\"Rule 3 is broken \",r3,\" times\")\n",
    "print(\"Rule 4 is broken \",r4,\" times\\n\")\n",
    "print(\"Total rules are broken \",r1+r2+r3+r4,\" times\")"
   ]
  }
 ],
 "metadata": {
  "kernelspec": {
   "display_name": "Python 3 (ipykernel)",
   "language": "python",
   "name": "python3"
  },
  "language_info": {
   "codemirror_mode": {
    "name": "ipython",
    "version": 3
   },
   "file_extension": ".py",
   "mimetype": "text/x-python",
   "name": "python",
   "nbconvert_exporter": "python",
   "pygments_lexer": "ipython3",
   "version": "3.10.8"
  },
  "varInspector": {
   "cols": {
    "lenName": 16,
    "lenType": 16,
    "lenVar": 40
   },
   "kernels_config": {
    "python": {
     "delete_cmd_postfix": "",
     "delete_cmd_prefix": "del ",
     "library": "var_list.py",
     "varRefreshCmd": "print(var_dic_list())"
    },
    "r": {
     "delete_cmd_postfix": ") ",
     "delete_cmd_prefix": "rm(",
     "library": "var_list.r",
     "varRefreshCmd": "cat(var_dic_list()) "
    }
   },
   "types_to_exclude": [
    "module",
    "function",
    "builtin_function_or_method",
    "instance",
    "_Feature"
   ],
   "window_display": false
  }
 },
 "nbformat": 4,
 "nbformat_minor": 5
}
